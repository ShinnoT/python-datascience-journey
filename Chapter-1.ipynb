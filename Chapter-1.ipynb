{
 "cells": [
  {
   "cell_type": "code",
   "execution_count": 231,
   "metadata": {},
   "outputs": [],
   "source": [
    "# imports\n",
    "\n",
    "import pandas as pd\n",
    "import numpy as np\n",
    "import wquantiles as wq\n",
    "from scipy import stats\n",
    "from statsmodels import robust"
   ]
  },
  {
   "cell_type": "code",
   "execution_count": 232,
   "metadata": {},
   "outputs": [
    {
     "data": {
      "text/html": [
       "<div>\n",
       "<style scoped>\n",
       "    .dataframe tbody tr th:only-of-type {\n",
       "        vertical-align: middle;\n",
       "    }\n",
       "\n",
       "    .dataframe tbody tr th {\n",
       "        vertical-align: top;\n",
       "    }\n",
       "\n",
       "    .dataframe thead th {\n",
       "        text-align: right;\n",
       "    }\n",
       "</style>\n",
       "<table border=\"1\" class=\"dataframe\">\n",
       "  <thead>\n",
       "    <tr style=\"text-align: right;\">\n",
       "      <th></th>\n",
       "      <th>2021</th>\n",
       "    </tr>\n",
       "    <tr>\n",
       "      <th>Country Name</th>\n",
       "      <th></th>\n",
       "    </tr>\n",
       "  </thead>\n",
       "  <tbody>\n",
       "    <tr>\n",
       "      <th>Aruba</th>\n",
       "      <td>0.106537</td>\n",
       "    </tr>\n",
       "    <tr>\n",
       "      <th>Africa Eastern and Southern</th>\n",
       "      <td>702.976832</td>\n",
       "    </tr>\n",
       "    <tr>\n",
       "      <th>Afghanistan</th>\n",
       "      <td>40.099462</td>\n",
       "    </tr>\n",
       "    <tr>\n",
       "      <th>Africa Western and Central</th>\n",
       "      <td>478.185907</td>\n",
       "    </tr>\n",
       "    <tr>\n",
       "      <th>Angola</th>\n",
       "      <td>34.503774</td>\n",
       "    </tr>\n",
       "    <tr>\n",
       "      <th>...</th>\n",
       "      <td>...</td>\n",
       "    </tr>\n",
       "    <tr>\n",
       "      <th>Kosovo</th>\n",
       "      <td>1.786038</td>\n",
       "    </tr>\n",
       "    <tr>\n",
       "      <th>Yemen, Rep.</th>\n",
       "      <td>32.981641</td>\n",
       "    </tr>\n",
       "    <tr>\n",
       "      <th>South Africa</th>\n",
       "      <td>59.392255</td>\n",
       "    </tr>\n",
       "    <tr>\n",
       "      <th>Zambia</th>\n",
       "      <td>19.473125</td>\n",
       "    </tr>\n",
       "    <tr>\n",
       "      <th>Zimbabwe</th>\n",
       "      <td>15.993524</td>\n",
       "    </tr>\n",
       "  </tbody>\n",
       "</table>\n",
       "<p>266 rows × 1 columns</p>\n",
       "</div>"
      ],
      "text/plain": [
       "                                   2021\n",
       "Country Name                           \n",
       "Aruba                          0.106537\n",
       "Africa Eastern and Southern  702.976832\n",
       "Afghanistan                   40.099462\n",
       "Africa Western and Central   478.185907\n",
       "Angola                        34.503774\n",
       "...                                 ...\n",
       "Kosovo                         1.786038\n",
       "Yemen, Rep.                   32.981641\n",
       "South Africa                  59.392255\n",
       "Zambia                        19.473125\n",
       "Zimbabwe                      15.993524\n",
       "\n",
       "[266 rows x 1 columns]"
      ]
     },
     "metadata": {},
     "output_type": "display_data"
    },
    {
     "data": {
      "text/html": [
       "<div>\n",
       "<style scoped>\n",
       "    .dataframe tbody tr th:only-of-type {\n",
       "        vertical-align: middle;\n",
       "    }\n",
       "\n",
       "    .dataframe tbody tr th {\n",
       "        vertical-align: top;\n",
       "    }\n",
       "\n",
       "    .dataframe thead th {\n",
       "        text-align: right;\n",
       "    }\n",
       "</style>\n",
       "<table border=\"1\" class=\"dataframe\">\n",
       "  <thead>\n",
       "    <tr style=\"text-align: right;\">\n",
       "      <th></th>\n",
       "      <th>2021</th>\n",
       "    </tr>\n",
       "    <tr>\n",
       "      <th>Country Name</th>\n",
       "      <th></th>\n",
       "    </tr>\n",
       "  </thead>\n",
       "  <tbody>\n",
       "    <tr>\n",
       "      <th>China</th>\n",
       "      <td>1412.36</td>\n",
       "    </tr>\n",
       "  </tbody>\n",
       "</table>\n",
       "</div>"
      ],
      "text/plain": [
       "                 2021\n",
       "Country Name         \n",
       "China         1412.36"
      ]
     },
     "metadata": {},
     "output_type": "display_data"
    }
   ],
   "source": [
    "# data import\n",
    "\n",
    "base_path = \"./worldbank-literacy-rates-of-males-and-females-ages-15-and-above/data\"\n",
    "literacy_rate_male = pd.read_csv(f\"{base_path}/adult_male.csv\")\n",
    "literacy_rate_female = pd.read_csv(f\"{base_path}/adult_female.csv\")\n",
    "\n",
    "base_path_population = \"./API_SP.POP.TOTL_DS2_en_csv_v2_5436324\"\n",
    "global_population = pd.read_csv(f\"{base_path_population}/main.csv\", on_bad_lines=\"skip\")\n",
    "global_population_2021 = global_population[[\"Country Name\", \"2021\"]].copy()\n",
    "global_population_2021.set_index(\"Country Name\", inplace=True)\n",
    "global_population_2021[\"2021\"] = global_population_2021[\"2021\"].div(1000000)\n",
    "\n",
    "crime_rate = pd.DataFrame(\n",
    "    {\n",
    "        \"State\": [\"Alabama\", \"Alaska\", \"Arizona\", \"Arkansas\", \"California\", \"Colorado\", \"Conneticut\", \"Delaware\" ],\n",
    "        \"Population\": [4779736, 710231, 6392017, 2915918, 37253956, 5029196, 3574097, 897934],\n",
    "        \"Crime Rate\": [5.7, 5.6, 4.7, 5.6, 4.4, 2.8, 2.4, 5.8]\n",
    "    }\n",
    ")\n",
    "\n",
    "airport_delay_causes = pd.DataFrame(\n",
    "    {\n",
    "        \"Carrier\": [23.02],\n",
    "        \"ATC\": [30.40],\n",
    "        \"Weather\": [4.03],\n",
    "        \"Security\": [0.12],\n",
    "        \"Inbound\": [42.43]\n",
    "    }\n",
    ")\n",
    "\n",
    "display(global_population_2021)\n",
    "display(global_population_2021.loc[[\"China\"]])"
   ]
  },
  {
   "cell_type": "code",
   "execution_count": 233,
   "metadata": {},
   "outputs": [],
   "source": [
    "# functions\n",
    "\n",
    "# central tendencies\n",
    "def calculate_means(data_set, column_title, crime_rate_header=None):\n",
    "    target_column = data_set[column_title]\n",
    "    print(\"====== CENTRAL TENDENCIES ======\")\n",
    "    print(f\"Mean: {target_column.mean():,}\")\n",
    "    print(f\"20% Trimmed Mean: {stats.trim_mean(target_column, 0.2):,}\")\n",
    "    print(f\"Median: {target_column.median():,}\")\n",
    "    if crime_rate_header:\n",
    "        crime_rate_column = data_set[crime_rate_header]\n",
    "        print(f\"Crime Rate Weighted Mean: {np.average(crime_rate_column, weights=target_column)}\")\n",
    "        print(f\"Crime Rate Weighted Median: {wq.median(crime_rate_column, weights=target_column)}\")\n",
    "    print(\"=========== END =========== \\n\")\n",
    "\n",
    "# variance\n",
    "def calculate_variance(data_set, column_title, crime_rate_header=None):\n",
    "    target_column = data_set[column_title]\n",
    "    print(\"====== VARIANCE ======\")\n",
    "    print(f\"Standard Deviation: {target_column.std():,}\")\n",
    "    print(f\"Interquartile Range: {target_column.quantile(0.75) - target_column.quantile(0.25):,}\")\n",
    "    print(f\"Median Absolute Deviation: {stats.median_abs_deviation(target_column, nan_policy='omit'):,}\")\n",
    "    if crime_rate_header:\n",
    "        crime_rate_column = data_set[crime_rate_header]\n",
    "    print(\"=========== END =========== \\n\")\n",
    "\n",
    "# distribution (includes data visualizations)\n",
    "def calculate_distribution(data_set, column_title):\n",
    "    target_column = data_set[column_title]\n",
    "    print(\"====== DATA DISTRIBUTION ======\")\n",
    "    print(f\"{column_title} Quantiles:\\n{target_column.quantile([0.05, 0.25, 0.5, 0.75, 0.95])}\")\n",
    "    print(\"=========== END =========== \\n\")\n",
    "    \n",
    "def display_frequency_table(data_set, column_title):\n",
    "    target_column = data_set[column_title]\n",
    "    # cut function cuts the data into n equally spaced bins\n",
    "    binned_population = pd.cut(target_column, 15)\n",
    "    binned_count = binned_population.value_counts()\n",
    "    display(binned_count)\n",
    "    "
   ]
  },
  {
   "cell_type": "code",
   "execution_count": 234,
   "metadata": {},
   "outputs": [
    {
     "data": {
      "text/html": [
       "<div>\n",
       "<style scoped>\n",
       "    .dataframe tbody tr th:only-of-type {\n",
       "        vertical-align: middle;\n",
       "    }\n",
       "\n",
       "    .dataframe tbody tr th {\n",
       "        vertical-align: top;\n",
       "    }\n",
       "\n",
       "    .dataframe thead th {\n",
       "        text-align: right;\n",
       "    }\n",
       "</style>\n",
       "<table border=\"1\" class=\"dataframe\">\n",
       "  <thead>\n",
       "    <tr style=\"text-align: right;\">\n",
       "      <th></th>\n",
       "      <th>State</th>\n",
       "      <th>Population</th>\n",
       "      <th>Crime Rate</th>\n",
       "    </tr>\n",
       "  </thead>\n",
       "  <tbody>\n",
       "    <tr>\n",
       "      <th>0</th>\n",
       "      <td>Alabama</td>\n",
       "      <td>4779736</td>\n",
       "      <td>5.7</td>\n",
       "    </tr>\n",
       "    <tr>\n",
       "      <th>1</th>\n",
       "      <td>Alaska</td>\n",
       "      <td>710231</td>\n",
       "      <td>5.6</td>\n",
       "    </tr>\n",
       "    <tr>\n",
       "      <th>2</th>\n",
       "      <td>Arizona</td>\n",
       "      <td>6392017</td>\n",
       "      <td>4.7</td>\n",
       "    </tr>\n",
       "    <tr>\n",
       "      <th>3</th>\n",
       "      <td>Arkansas</td>\n",
       "      <td>2915918</td>\n",
       "      <td>5.6</td>\n",
       "    </tr>\n",
       "    <tr>\n",
       "      <th>4</th>\n",
       "      <td>California</td>\n",
       "      <td>37253956</td>\n",
       "      <td>4.4</td>\n",
       "    </tr>\n",
       "    <tr>\n",
       "      <th>5</th>\n",
       "      <td>Colorado</td>\n",
       "      <td>5029196</td>\n",
       "      <td>2.8</td>\n",
       "    </tr>\n",
       "    <tr>\n",
       "      <th>6</th>\n",
       "      <td>Conneticut</td>\n",
       "      <td>3574097</td>\n",
       "      <td>2.4</td>\n",
       "    </tr>\n",
       "    <tr>\n",
       "      <th>7</th>\n",
       "      <td>Delaware</td>\n",
       "      <td>897934</td>\n",
       "      <td>5.8</td>\n",
       "    </tr>\n",
       "  </tbody>\n",
       "</table>\n",
       "</div>"
      ],
      "text/plain": [
       "        State  Population  Crime Rate\n",
       "0     Alabama     4779736         5.7\n",
       "1      Alaska      710231         5.6\n",
       "2     Arizona     6392017         4.7\n",
       "3    Arkansas     2915918         5.6\n",
       "4  California    37253956         4.4\n",
       "5    Colorado     5029196         2.8\n",
       "6  Conneticut     3574097         2.4\n",
       "7    Delaware      897934         5.8"
      ]
     },
     "metadata": {},
     "output_type": "display_data"
    },
    {
     "name": "stdout",
     "output_type": "stream",
     "text": [
      "====== CENTRAL TENDENCIES ======\n",
      "Mean: 7,694,135.625\n",
      "20% Trimmed Mean: 3,931,483.0\n",
      "Median: 4,176,916.5\n",
      "Crime Rate Weighted Mean: 4.376359279149048\n",
      "Crime Rate Weighted Median: 4.448750497554494\n",
      "=========== END =========== \n",
      "\n",
      "====== VARIANCE ======\n",
      "Standard Deviation: 12,105,745.29585633\n",
      "Interquartile Range: 2,958,479.25\n",
      "Median Absolute Deviation: 1,738,049.5\n",
      "=========== END =========== \n",
      "\n",
      "====== DATA DISTRIBUTION ======\n",
      "Crime Rate Quantiles:\n",
      "0.05    2.540\n",
      "0.25    4.000\n",
      "0.50    5.150\n",
      "0.75    5.625\n",
      "0.95    5.765\n",
      "Name: Crime Rate, dtype: float64\n",
      "=========== END =========== \n",
      "\n"
     ]
    }
   ],
   "source": [
    "display(crime_rate)\n",
    "calculate_means(crime_rate, \"Population\", crime_rate_header=\"Crime Rate\")\n",
    "calculate_variance(crime_rate, \"Population\", crime_rate_header=\"Crime Rate\")\n",
    "calculate_distribution(crime_rate, \"Crime Rate\")"
   ]
  },
  {
   "cell_type": "code",
   "execution_count": 235,
   "metadata": {},
   "outputs": [
    {
     "data": {
      "text/html": [
       "<div>\n",
       "<style scoped>\n",
       "    .dataframe tbody tr th:only-of-type {\n",
       "        vertical-align: middle;\n",
       "    }\n",
       "\n",
       "    .dataframe tbody tr th {\n",
       "        vertical-align: top;\n",
       "    }\n",
       "\n",
       "    .dataframe thead th {\n",
       "        text-align: right;\n",
       "    }\n",
       "</style>\n",
       "<table border=\"1\" class=\"dataframe\">\n",
       "  <thead>\n",
       "    <tr style=\"text-align: right;\">\n",
       "      <th></th>\n",
       "      <th>2021</th>\n",
       "    </tr>\n",
       "    <tr>\n",
       "      <th>Country Name</th>\n",
       "      <th></th>\n",
       "    </tr>\n",
       "  </thead>\n",
       "  <tbody>\n",
       "    <tr>\n",
       "      <th>Aruba</th>\n",
       "      <td>0.106537</td>\n",
       "    </tr>\n",
       "    <tr>\n",
       "      <th>Africa Eastern and Southern</th>\n",
       "      <td>702.976832</td>\n",
       "    </tr>\n",
       "    <tr>\n",
       "      <th>Afghanistan</th>\n",
       "      <td>40.099462</td>\n",
       "    </tr>\n",
       "    <tr>\n",
       "      <th>Africa Western and Central</th>\n",
       "      <td>478.185907</td>\n",
       "    </tr>\n",
       "    <tr>\n",
       "      <th>Angola</th>\n",
       "      <td>34.503774</td>\n",
       "    </tr>\n",
       "    <tr>\n",
       "      <th>...</th>\n",
       "      <td>...</td>\n",
       "    </tr>\n",
       "    <tr>\n",
       "      <th>Kosovo</th>\n",
       "      <td>1.786038</td>\n",
       "    </tr>\n",
       "    <tr>\n",
       "      <th>Yemen, Rep.</th>\n",
       "      <td>32.981641</td>\n",
       "    </tr>\n",
       "    <tr>\n",
       "      <th>South Africa</th>\n",
       "      <td>59.392255</td>\n",
       "    </tr>\n",
       "    <tr>\n",
       "      <th>Zambia</th>\n",
       "      <td>19.473125</td>\n",
       "    </tr>\n",
       "    <tr>\n",
       "      <th>Zimbabwe</th>\n",
       "      <td>15.993524</td>\n",
       "    </tr>\n",
       "  </tbody>\n",
       "</table>\n",
       "<p>266 rows × 1 columns</p>\n",
       "</div>"
      ],
      "text/plain": [
       "                                   2021\n",
       "Country Name                           \n",
       "Aruba                          0.106537\n",
       "Africa Eastern and Southern  702.976832\n",
       "Afghanistan                   40.099462\n",
       "Africa Western and Central   478.185907\n",
       "Angola                        34.503774\n",
       "...                                 ...\n",
       "Kosovo                         1.786038\n",
       "Yemen, Rep.                   32.981641\n",
       "South Africa                  59.392255\n",
       "Zambia                        19.473125\n",
       "Zimbabwe                      15.993524\n",
       "\n",
       "[266 rows x 1 columns]"
      ]
     },
     "metadata": {},
     "output_type": "display_data"
    },
    {
     "name": "stdout",
     "output_type": "stream",
     "text": [
      "====== CENTRAL TENDENCIES ======\n",
      "Mean: 322.32479020754715\n",
      "20% Trimmed Mean: 22.77274466875\n",
      "Median: 10.505772\n",
      "=========== END =========== \n",
      "\n",
      "====== VARIANCE ======\n",
      "Standard Deviation: 1,004.0978660460836\n",
      "Interquartile Range: 61.802296000000005\n",
      "Median Absolute Deviation: 10.399755\n",
      "=========== END =========== \n",
      "\n",
      "====== DATA DISTRIBUTION ======\n",
      "2021 Quantiles:\n",
      "0.05       0.047981\n",
      "0.25       1.786038\n",
      "0.50      10.505772\n",
      "0.75      63.588334\n",
      "0.95    1877.104771\n",
      "Name: 2021, dtype: float64\n",
      "=========== END =========== \n",
      "\n"
     ]
    }
   ],
   "source": [
    "display(global_population_2021)\n",
    "calculate_means(global_population_2021, \"2021\")\n",
    "calculate_variance(global_population_2021, \"2021\")\n",
    "calculate_distribution(global_population_2021, \"2021\")"
   ]
  },
  {
   "cell_type": "code",
   "execution_count": 236,
   "metadata": {},
   "outputs": [
    {
     "data": {
      "text/plain": [
       "Population\n",
       "(673687.275, 3146479.333]       3\n",
       "(3146479.333, 5582727.667]      3\n",
       "(5582727.667, 8018976.0]        1\n",
       "(34817707.667, 37253956.0]      1\n",
       "(8018976.0, 10455224.333]       0\n",
       "(10455224.333, 12891472.667]    0\n",
       "(12891472.667, 15327721.0]      0\n",
       "(15327721.0, 17763969.333]      0\n",
       "(17763969.333, 20200217.667]    0\n",
       "(20200217.667, 22636466.0]      0\n",
       "(22636466.0, 25072714.333]      0\n",
       "(25072714.333, 27508962.667]    0\n",
       "(27508962.667, 29945211.0]      0\n",
       "(29945211.0, 32381459.333]      0\n",
       "(32381459.333, 34817707.667]    0\n",
       "Name: count, dtype: int64"
      ]
     },
     "metadata": {},
     "output_type": "display_data"
    },
    {
     "data": {
      "text/plain": [
       "2021\n",
       "(-7.877, 525.904]       230\n",
       "(525.904, 1051.798]      10\n",
       "(1051.798, 1577.691]     10\n",
       "(1577.691, 2103.584]      4\n",
       "(2103.584, 2629.477]      4\n",
       "(3155.37, 3681.263]       2\n",
       "(6310.729, 6836.622]      2\n",
       "(4733.05, 5258.943]       1\n",
       "(5784.836, 6310.729]      1\n",
       "(7362.516, 7888.409]      1\n",
       "(2629.477, 3155.37]       0\n",
       "(3681.263, 4207.157]      0\n",
       "(4207.157, 4733.05]       0\n",
       "(5258.943, 5784.836]      0\n",
       "(6836.622, 7362.516]      0\n",
       "Name: count, dtype: int64"
      ]
     },
     "metadata": {},
     "output_type": "display_data"
    }
   ],
   "source": [
    "display_frequency_table(crime_rate, \"Population\")\n",
    "display_frequency_table(global_population_2021, \"2021\")"
   ]
  },
  {
   "cell_type": "code",
   "execution_count": 237,
   "metadata": {},
   "outputs": [
    {
     "data": {
      "text/plain": [
       "<Axes: >"
      ]
     },
     "metadata": {},
     "output_type": "display_data"
    },
    {
     "data": {
      "image/png": "[encoded data removed]",
      "text/plain": [
       "<Figure size 640x480 with 1 Axes>"
      ]
     },
     "metadata": {},
     "output_type": "display_data"
    }
   ],
   "source": [
    "# display box plot of global population (with outliers)\n",
    "\n",
    "boxplot = global_population_2021.boxplot(\"2021\")\n",
    "display(boxplot)"
   ]
  },
  {
   "cell_type": "code",
   "execution_count": 238,
   "metadata": {},
   "outputs": [
    {
     "data": {
      "text/plain": [
       "<Axes: xlabel='Population (Millions)'>"
      ]
     },
     "metadata": {},
     "output_type": "display_data"
    },
    {
     "data": {
      "image/png": "[encoded data removed]",
      "text/plain": [
       "<Figure size 640x480 with 1 Axes>"
      ]
     },
     "metadata": {},
     "output_type": "display_data"
    }
   ],
   "source": [
    "target_column = global_population_2021[\"2021\"]\n",
    "histogram = target_column.hist()\n",
    "histogram.set_xlabel(\"Population (Millions)\")\n",
    "display(histogram)"
   ]
  },
  {
   "attachments": {},
   "cell_type": "markdown",
   "metadata": {},
   "source": [
    "### A key distinction from the histogram, is the scale of the y-axis: a density plot corresponds to plotting the histogram as a proportion rather than counts. Note that the total area under the density curve = 1, and instead of counts in bins you calculate areas under the curve between any two points on the x-axis, which correspond to the proportion of the distribution lying between those two points."
   ]
  },
  {
   "cell_type": "code",
   "execution_count": 239,
   "metadata": {},
   "outputs": [
    {
     "data": {
      "text/plain": [
       "<Axes: xlabel='Population (Millions)', ylabel='Density'>"
      ]
     },
     "metadata": {},
     "output_type": "display_data"
    },
    {
     "data": {
      "image/png": "[encoded data removed]",
      "text/plain": [
       "<Figure size 640x480 with 1 Axes>"
      ]
     },
     "metadata": {},
     "output_type": "display_data"
    }
   ],
   "source": [
    "target_column = global_population_2021[\"2021\"]\n",
    "# density_plot = target_column.plot.hist(density=True, xlim=[0,12], bins=range(1,12))\n",
    "density_plot = target_column.hist(density=True)\n",
    "target_column.plot.density(ax=density_plot)\n",
    "density_plot.set_xlabel('Population (Millions)')\n",
    "display(density_plot)"
   ]
  },
  {
   "attachments": {},
   "cell_type": "markdown",
   "metadata": {},
   "source": [
    "# Categorical Data"
   ]
  },
  {
   "cell_type": "code",
   "execution_count": 240,
   "metadata": {},
   "outputs": [
    {
     "data": {
      "text/html": [
       "<div>\n",
       "<style scoped>\n",
       "    .dataframe tbody tr th:only-of-type {\n",
       "        vertical-align: middle;\n",
       "    }\n",
       "\n",
       "    .dataframe tbody tr th {\n",
       "        vertical-align: top;\n",
       "    }\n",
       "\n",
       "    .dataframe thead th {\n",
       "        text-align: right;\n",
       "    }\n",
       "</style>\n",
       "<table border=\"1\" class=\"dataframe\">\n",
       "  <thead>\n",
       "    <tr style=\"text-align: right;\">\n",
       "      <th></th>\n",
       "      <th>Carrier</th>\n",
       "      <th>ATC</th>\n",
       "      <th>Weather</th>\n",
       "      <th>Security</th>\n",
       "      <th>Inbound</th>\n",
       "    </tr>\n",
       "  </thead>\n",
       "  <tbody>\n",
       "    <tr>\n",
       "      <th>0</th>\n",
       "      <td>23.02</td>\n",
       "      <td>30.4</td>\n",
       "      <td>4.03</td>\n",
       "      <td>0.12</td>\n",
       "      <td>42.43</td>\n",
       "    </tr>\n",
       "  </tbody>\n",
       "</table>\n",
       "</div>"
      ],
      "text/plain": [
       "   Carrier   ATC  Weather  Security  Inbound\n",
       "0    23.02  30.4     4.03      0.12    42.43"
      ]
     },
     "metadata": {},
     "output_type": "display_data"
    },
    {
     "data": {
      "text/plain": [
       "<Axes: xlabel='Cause of delay', ylabel='Count'>"
      ]
     },
     "metadata": {},
     "output_type": "display_data"
    },
    {
     "data": {
      "image/png": "[encoded data removed]",
      "text/plain": [
       "<Figure size 400x400 with 1 Axes>"
      ]
     },
     "metadata": {},
     "output_type": "display_data"
    }
   ],
   "source": [
    "# categorical data\n",
    "display(airport_delay_causes)\n",
    "\n",
    "# bar chart\n",
    "bar_chart = airport_delay_causes.transpose().plot.bar(figsize=(4, 4), legend=False)\n",
    "bar_chart.set_xlabel('Cause of delay')\n",
    "bar_chart.set_ylabel('Count')\n",
    "display(bar_chart)"
   ]
  },
  {
   "attachments": {},
   "cell_type": "markdown",
   "metadata": {},
   "source": [
    "A special type of categorical data is data in which the categories represent or can be mapped to discrete values on the same scale. A marketer for a new cloud technology, for example, offers two levels of service, one priced at $300/month and another at $50/month. The marketer offers free webinars to generate leads, and the firm figures that 5% of the attendees will sign up for the $300 service, 15% will sign up for the $50 service, and 80% will not sign up for anything. This data can be summed up, for financial purposes, in a single “expected value,” which is a form of weighted mean, in which the weights are probabilities. \n",
    "\n",
    "The expected value is calculated as follows:\n",
    "```\n",
    "1. Multiply each outcome by its probability of occurrence.\n",
    "2. Sum these values.\n",
    "```\n",
    "In the cloud service example, the expected value of a webinar attendee is thus $22.50 per month, calculated as follows:\n",
    "```\n",
    "EV = 0 . 05 300 + 0 . 15 50 + 0 . 80 0 = 22 . 5\n",
    "```\n",
    "\n",
    "The expected value is really a form of weighted mean: it adds the ideas of future expectations and probability weights, often based on subjective judgment. Expected value is a fundamental concept in business valuation and capital budgeting."
   ]
  },
  {
   "cell_type": "code",
   "execution_count": null,
   "metadata": {},
   "outputs": [],
   "source": []
  }
 ],
 "metadata": {
  "kernelspec": {
   "display_name": "data_science",
   "language": "python",
   "name": "python3"
  },
  "language_info": {
   "codemirror_mode": {
    "name": "ipython",
    "version": 3
   },
   "file_extension": ".py",
   "mimetype": "text/x-python",
   "name": "python",
   "nbconvert_exporter": "python",
   "pygments_lexer": "ipython3",
   "version": "3.11.2"
  },
  "orig_nbformat": 4
 },
 "nbformat": 4,
 "nbformat_minor": 2
}
